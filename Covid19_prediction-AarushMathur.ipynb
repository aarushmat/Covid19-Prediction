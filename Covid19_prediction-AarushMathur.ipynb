{
 "cells": [
  {
   "cell_type": "markdown",
   "id": "22a63bc9",
   "metadata": {},
   "source": [
    "# Covid-19 Prediction"
   ]
  },
  {
   "cell_type": "code",
   "execution_count": 1,
   "id": "c8d4a688",
   "metadata": {},
   "outputs": [],
   "source": [
    "import pandas as pd\n",
    "import matplotlib.pyplot as plt\n",
    "import numpy as np\n",
    "import datetime\n",
    "from datetime import timedelta\n",
    "from datetime import datetime as dt\n",
    "import time"
   ]
  },
  {
   "cell_type": "code",
   "execution_count": 2,
   "id": "52931996",
   "metadata": {
    "scrolled": true
   },
   "outputs": [
    {
     "data": {
      "text/html": [
       "<div>\n",
       "<style scoped>\n",
       "    .dataframe tbody tr th:only-of-type {\n",
       "        vertical-align: middle;\n",
       "    }\n",
       "\n",
       "    .dataframe tbody tr th {\n",
       "        vertical-align: top;\n",
       "    }\n",
       "\n",
       "    .dataframe thead th {\n",
       "        text-align: right;\n",
       "    }\n",
       "</style>\n",
       "<table border=\"1\" class=\"dataframe\">\n",
       "  <thead>\n",
       "    <tr style=\"text-align: right;\">\n",
       "      <th></th>\n",
       "      <th>date</th>\n",
       "      <th>state</th>\n",
       "      <th>death</th>\n",
       "      <th>deathConfirmed</th>\n",
       "      <th>deathIncrease</th>\n",
       "      <th>deathProbable</th>\n",
       "      <th>hospitalized</th>\n",
       "      <th>hospitalizedCumulative</th>\n",
       "      <th>hospitalizedCurrently</th>\n",
       "      <th>hospitalizedIncrease</th>\n",
       "      <th>...</th>\n",
       "      <th>totalTestResults</th>\n",
       "      <th>totalTestResultsIncrease</th>\n",
       "      <th>totalTestsAntibody</th>\n",
       "      <th>totalTestsAntigen</th>\n",
       "      <th>totalTestsPeopleAntibody</th>\n",
       "      <th>totalTestsPeopleAntigen</th>\n",
       "      <th>totalTestsPeopleViral</th>\n",
       "      <th>totalTestsPeopleViralIncrease</th>\n",
       "      <th>totalTestsViral</th>\n",
       "      <th>totalTestsViralIncrease</th>\n",
       "    </tr>\n",
       "  </thead>\n",
       "  <tbody>\n",
       "    <tr>\n",
       "      <th>0</th>\n",
       "      <td>2021-03-07</td>\n",
       "      <td>MI</td>\n",
       "      <td>16658.0</td>\n",
       "      <td>15666</td>\n",
       "      <td>0</td>\n",
       "      <td>992</td>\n",
       "      <td>NaN</td>\n",
       "      <td>NaN</td>\n",
       "      <td>866.0</td>\n",
       "      <td>0</td>\n",
       "      <td>...</td>\n",
       "      <td>10621967.0</td>\n",
       "      <td>0</td>\n",
       "      <td>537073.0</td>\n",
       "      <td>NaN</td>\n",
       "      <td>NaN</td>\n",
       "      <td>NaN</td>\n",
       "      <td>NaN</td>\n",
       "      <td>0</td>\n",
       "      <td>10621967.0</td>\n",
       "      <td>0</td>\n",
       "    </tr>\n",
       "    <tr>\n",
       "      <th>1</th>\n",
       "      <td>2021-03-06</td>\n",
       "      <td>MI</td>\n",
       "      <td>16658.0</td>\n",
       "      <td>15666</td>\n",
       "      <td>57</td>\n",
       "      <td>992</td>\n",
       "      <td>NaN</td>\n",
       "      <td>NaN</td>\n",
       "      <td>866.0</td>\n",
       "      <td>0</td>\n",
       "      <td>...</td>\n",
       "      <td>10621967.0</td>\n",
       "      <td>37232</td>\n",
       "      <td>537073.0</td>\n",
       "      <td>NaN</td>\n",
       "      <td>NaN</td>\n",
       "      <td>NaN</td>\n",
       "      <td>NaN</td>\n",
       "      <td>0</td>\n",
       "      <td>10621967.0</td>\n",
       "      <td>37232</td>\n",
       "    </tr>\n",
       "    <tr>\n",
       "      <th>2</th>\n",
       "      <td>2021-03-05</td>\n",
       "      <td>MI</td>\n",
       "      <td>16601.0</td>\n",
       "      <td>15610</td>\n",
       "      <td>12</td>\n",
       "      <td>991</td>\n",
       "      <td>NaN</td>\n",
       "      <td>NaN</td>\n",
       "      <td>866.0</td>\n",
       "      <td>0</td>\n",
       "      <td>...</td>\n",
       "      <td>10584735.0</td>\n",
       "      <td>46112</td>\n",
       "      <td>535084.0</td>\n",
       "      <td>NaN</td>\n",
       "      <td>NaN</td>\n",
       "      <td>NaN</td>\n",
       "      <td>NaN</td>\n",
       "      <td>0</td>\n",
       "      <td>10584735.0</td>\n",
       "      <td>46112</td>\n",
       "    </tr>\n",
       "    <tr>\n",
       "      <th>3</th>\n",
       "      <td>2021-03-04</td>\n",
       "      <td>MI</td>\n",
       "      <td>16589.0</td>\n",
       "      <td>15600</td>\n",
       "      <td>39</td>\n",
       "      <td>989</td>\n",
       "      <td>NaN</td>\n",
       "      <td>NaN</td>\n",
       "      <td>890.0</td>\n",
       "      <td>0</td>\n",
       "      <td>...</td>\n",
       "      <td>10538623.0</td>\n",
       "      <td>46486</td>\n",
       "      <td>532658.0</td>\n",
       "      <td>NaN</td>\n",
       "      <td>NaN</td>\n",
       "      <td>NaN</td>\n",
       "      <td>NaN</td>\n",
       "      <td>0</td>\n",
       "      <td>10538623.0</td>\n",
       "      <td>46486</td>\n",
       "    </tr>\n",
       "    <tr>\n",
       "      <th>4</th>\n",
       "      <td>2021-03-03</td>\n",
       "      <td>MI</td>\n",
       "      <td>16550.0</td>\n",
       "      <td>15563</td>\n",
       "      <td>6</td>\n",
       "      <td>987</td>\n",
       "      <td>NaN</td>\n",
       "      <td>NaN</td>\n",
       "      <td>882.0</td>\n",
       "      <td>0</td>\n",
       "      <td>...</td>\n",
       "      <td>10492137.0</td>\n",
       "      <td>36453</td>\n",
       "      <td>530799.0</td>\n",
       "      <td>NaN</td>\n",
       "      <td>NaN</td>\n",
       "      <td>NaN</td>\n",
       "      <td>NaN</td>\n",
       "      <td>0</td>\n",
       "      <td>10492137.0</td>\n",
       "      <td>36453</td>\n",
       "    </tr>\n",
       "  </tbody>\n",
       "</table>\n",
       "<p>5 rows × 41 columns</p>\n",
       "</div>"
      ],
      "text/plain": [
       "         date state    death  deathConfirmed  deathIncrease  deathProbable  \\\n",
       "0  2021-03-07    MI  16658.0           15666              0            992   \n",
       "1  2021-03-06    MI  16658.0           15666             57            992   \n",
       "2  2021-03-05    MI  16601.0           15610             12            991   \n",
       "3  2021-03-04    MI  16589.0           15600             39            989   \n",
       "4  2021-03-03    MI  16550.0           15563              6            987   \n",
       "\n",
       "   hospitalized  hospitalizedCumulative  hospitalizedCurrently  \\\n",
       "0           NaN                     NaN                  866.0   \n",
       "1           NaN                     NaN                  866.0   \n",
       "2           NaN                     NaN                  866.0   \n",
       "3           NaN                     NaN                  890.0   \n",
       "4           NaN                     NaN                  882.0   \n",
       "\n",
       "   hospitalizedIncrease  ...  totalTestResults  totalTestResultsIncrease  \\\n",
       "0                     0  ...        10621967.0                         0   \n",
       "1                     0  ...        10621967.0                     37232   \n",
       "2                     0  ...        10584735.0                     46112   \n",
       "3                     0  ...        10538623.0                     46486   \n",
       "4                     0  ...        10492137.0                     36453   \n",
       "\n",
       "   totalTestsAntibody  totalTestsAntigen  totalTestsPeopleAntibody  \\\n",
       "0            537073.0                NaN                       NaN   \n",
       "1            537073.0                NaN                       NaN   \n",
       "2            535084.0                NaN                       NaN   \n",
       "3            532658.0                NaN                       NaN   \n",
       "4            530799.0                NaN                       NaN   \n",
       "\n",
       "   totalTestsPeopleAntigen  totalTestsPeopleViral  \\\n",
       "0                      NaN                    NaN   \n",
       "1                      NaN                    NaN   \n",
       "2                      NaN                    NaN   \n",
       "3                      NaN                    NaN   \n",
       "4                      NaN                    NaN   \n",
       "\n",
       "   totalTestsPeopleViralIncrease  totalTestsViral  totalTestsViralIncrease  \n",
       "0                              0       10621967.0                        0  \n",
       "1                              0       10621967.0                    37232  \n",
       "2                              0       10584735.0                    46112  \n",
       "3                              0       10538623.0                    46486  \n",
       "4                              0       10492137.0                    36453  \n",
       "\n",
       "[5 rows x 41 columns]"
      ]
     },
     "execution_count": 2,
     "metadata": {},
     "output_type": "execute_result"
    }
   ],
   "source": [
    "data = pd.read_csv(\"michigan-history.csv\", encoding=\"ISO-8859-1\",)\n",
    "data.head()"
   ]
  },
  {
   "cell_type": "code",
   "execution_count": 3,
   "id": "8584017c",
   "metadata": {},
   "outputs": [
    {
     "data": {
      "text/plain": [
       "Index(['date', 'state', 'death', 'deathConfirmed', 'deathIncrease',\n",
       "       'deathProbable', 'hospitalized', 'hospitalizedCumulative',\n",
       "       'hospitalizedCurrently', 'hospitalizedIncrease', 'inIcuCumulative',\n",
       "       'inIcuCurrently', 'negative', 'negativeIncrease',\n",
       "       'negativeTestsAntibody', 'negativeTestsPeopleAntibody',\n",
       "       'negativeTestsViral', 'onVentilatorCumulative', 'onVentilatorCurrently',\n",
       "       'positive', 'positiveCasesViral', 'positiveIncrease', 'positiveScore',\n",
       "       'positiveTestsAntibody', 'positiveTestsAntigen',\n",
       "       'positiveTestsPeopleAntibody', 'positiveTestsPeopleAntigen',\n",
       "       'positiveTestsViral', 'recovered', 'totalTestEncountersViral',\n",
       "       'totalTestEncountersViralIncrease', 'totalTestResults',\n",
       "       'totalTestResultsIncrease', 'totalTestsAntibody', 'totalTestsAntigen',\n",
       "       'totalTestsPeopleAntibody', 'totalTestsPeopleAntigen',\n",
       "       'totalTestsPeopleViral', 'totalTestsPeopleViralIncrease',\n",
       "       'totalTestsViral', 'totalTestsViralIncrease'],\n",
       "      dtype='object')"
      ]
     },
     "execution_count": 3,
     "metadata": {},
     "output_type": "execute_result"
    }
   ],
   "source": [
    "data.columns"
   ]
  },
  {
   "cell_type": "code",
   "execution_count": 4,
   "id": "0e727c40",
   "metadata": {
    "scrolled": true
   },
   "outputs": [
    {
     "name": "stdout",
     "output_type": "stream",
     "text": [
      "Total number of features in the dataset are: 41\n"
     ]
    }
   ],
   "source": [
    "print(\"Total number of features in the dataset are:\",len(data.columns))"
   ]
  },
  {
   "cell_type": "code",
   "execution_count": 5,
   "id": "e24d222a",
   "metadata": {},
   "outputs": [
    {
     "data": {
      "text/plain": [
       "0      2021-03-07\n",
       "1      2021-03-06\n",
       "2      2021-03-05\n",
       "3      2021-03-04\n",
       "4      2021-03-03\n",
       "          ...    \n",
       "367    2020-03-05\n",
       "368    2020-03-04\n",
       "369    2020-03-03\n",
       "370    2020-03-02\n",
       "371    2020-03-01\n",
       "Name: date, Length: 372, dtype: object"
      ]
     },
     "execution_count": 5,
     "metadata": {},
     "output_type": "execute_result"
    }
   ],
   "source": [
    "date = data['date']\n",
    "death = data['death']\n",
    "# plt.plot_date(date,death)\n",
    "# mean_value=data['date'].mean()\n",
    "date"
   ]
  },
  {
   "cell_type": "code",
   "execution_count": 6,
   "id": "b3641f73",
   "metadata": {},
   "outputs": [
    {
     "data": {
      "text/plain": [
       "0     2021-03-07\n",
       "1     2021-03-06\n",
       "2     2021-03-05\n",
       "3     2021-03-04\n",
       "4     2021-03-03\n",
       "         ...    \n",
       "367   2020-03-05\n",
       "368   2020-03-04\n",
       "369   2020-03-03\n",
       "370   2020-03-02\n",
       "371   2020-03-01\n",
       "Name: date, Length: 372, dtype: datetime64[ns]"
      ]
     },
     "execution_count": 6,
     "metadata": {},
     "output_type": "execute_result"
    }
   ],
   "source": [
    "# Taking date column in time format\n",
    "date1 = data[\"date\"].astype(\"datetime64\")\n",
    "# date = data[\"date\"]\n",
    "date1"
   ]
  },
  {
   "cell_type": "code",
   "execution_count": 7,
   "id": "f11a5825",
   "metadata": {},
   "outputs": [
    {
     "data": {
      "text/plain": [
       "str"
      ]
     },
     "execution_count": 7,
     "metadata": {},
     "output_type": "execute_result"
    }
   ],
   "source": [
    "type(date[0])"
   ]
  },
  {
   "cell_type": "code",
   "execution_count": 8,
   "id": "78b49c8c",
   "metadata": {},
   "outputs": [
    {
     "data": {
      "text/plain": [
       "[<matplotlib.lines.Line2D at 0x24dab1f9760>]"
      ]
     },
     "execution_count": 8,
     "metadata": {},
     "output_type": "execute_result"
    },
    {
     "data": {
      "image/png": "[encoded data removed]",
      "text/plain": [
       "<Figure size 432x288 with 1 Axes>"
      ]
     },
     "metadata": {
      "needs_background": "light"
     },
     "output_type": "display_data"
    }
   ],
   "source": [
    "plt.plot(date1,death)"
   ]
  },
  {
   "cell_type": "code",
   "execution_count": 9,
   "id": "6b9bbd60",
   "metadata": {},
   "outputs": [],
   "source": [
    "# #I will remove the rows of date which has null values in the corresponding death column.\n",
    "# condition = data[\"death\"].isnull() == False\n",
    "# date_new = date[condition]"
   ]
  },
  {
   "cell_type": "code",
   "execution_count": 10,
   "id": "bb0a6460",
   "metadata": {
    "scrolled": false
   },
   "outputs": [
    {
     "data": {
      "text/plain": [
       "0      16658.0\n",
       "1      16658.0\n",
       "2      16601.0\n",
       "3      16589.0\n",
       "4      16550.0\n",
       "        ...   \n",
       "367        0.0\n",
       "368        0.0\n",
       "369        0.0\n",
       "370        0.0\n",
       "371        0.0\n",
       "Name: death, Length: 372, dtype: float64"
      ]
     },
     "execution_count": 10,
     "metadata": {},
     "output_type": "execute_result"
    }
   ],
   "source": [
    "death_replace = death.fillna(0)\n",
    "death_replace"
   ]
  },
  {
   "cell_type": "code",
   "execution_count": 11,
   "id": "23b76417",
   "metadata": {},
   "outputs": [
    {
     "data": {
      "text/plain": [
       "[<matplotlib.lines.Line2D at 0x24dad317d00>]"
      ]
     },
     "execution_count": 11,
     "metadata": {},
     "output_type": "execute_result"
    },
    {
     "data": {
      "image/png": "[encoded data removed]",
      "text/plain": [
       "<Figure size 432x288 with 1 Axes>"
      ]
     },
     "metadata": {
      "needs_background": "light"
     },
     "output_type": "display_data"
    }
   ],
   "source": [
    "plt.plot(date1,death_replace)\n",
    "# print(type(date))\n",
    "# print(type(death_replace))"
   ]
  },
  {
   "cell_type": "code",
   "execution_count": 12,
   "id": "93cf0125",
   "metadata": {},
   "outputs": [
    {
     "data": {
      "text/html": [
       "<div>\n",
       "<style scoped>\n",
       "    .dataframe tbody tr th:only-of-type {\n",
       "        vertical-align: middle;\n",
       "    }\n",
       "\n",
       "    .dataframe tbody tr th {\n",
       "        vertical-align: top;\n",
       "    }\n",
       "\n",
       "    .dataframe thead th {\n",
       "        text-align: right;\n",
       "    }\n",
       "</style>\n",
       "<table border=\"1\" class=\"dataframe\">\n",
       "  <thead>\n",
       "    <tr style=\"text-align: right;\">\n",
       "      <th></th>\n",
       "      <th>date</th>\n",
       "      <th>state</th>\n",
       "      <th>death</th>\n",
       "      <th>deathConfirmed</th>\n",
       "      <th>deathIncrease</th>\n",
       "      <th>deathProbable</th>\n",
       "      <th>hospitalized</th>\n",
       "      <th>hospitalizedCumulative</th>\n",
       "      <th>hospitalizedCurrently</th>\n",
       "      <th>hospitalizedIncrease</th>\n",
       "      <th>...</th>\n",
       "      <th>totalTestResults</th>\n",
       "      <th>totalTestResultsIncrease</th>\n",
       "      <th>totalTestsAntibody</th>\n",
       "      <th>totalTestsAntigen</th>\n",
       "      <th>totalTestsPeopleAntibody</th>\n",
       "      <th>totalTestsPeopleAntigen</th>\n",
       "      <th>totalTestsPeopleViral</th>\n",
       "      <th>totalTestsPeopleViralIncrease</th>\n",
       "      <th>totalTestsViral</th>\n",
       "      <th>totalTestsViralIncrease</th>\n",
       "    </tr>\n",
       "  </thead>\n",
       "  <tbody>\n",
       "    <tr>\n",
       "      <th>0</th>\n",
       "      <td>2021-03-07</td>\n",
       "      <td>MI</td>\n",
       "      <td>16658.0</td>\n",
       "      <td>15666.0</td>\n",
       "      <td>0.0</td>\n",
       "      <td>992.0</td>\n",
       "      <td>NaN</td>\n",
       "      <td>NaN</td>\n",
       "      <td>866.0</td>\n",
       "      <td>0.0</td>\n",
       "      <td>...</td>\n",
       "      <td>10621967.0</td>\n",
       "      <td>0.0</td>\n",
       "      <td>537073.0</td>\n",
       "      <td>NaN</td>\n",
       "      <td>NaN</td>\n",
       "      <td>NaN</td>\n",
       "      <td>NaN</td>\n",
       "      <td>0.0</td>\n",
       "      <td>10621967.0</td>\n",
       "      <td>0.0</td>\n",
       "    </tr>\n",
       "    <tr>\n",
       "      <th>1</th>\n",
       "      <td>2021-03-06</td>\n",
       "      <td>MI</td>\n",
       "      <td>16658.0</td>\n",
       "      <td>15666.0</td>\n",
       "      <td>57.0</td>\n",
       "      <td>992.0</td>\n",
       "      <td>NaN</td>\n",
       "      <td>NaN</td>\n",
       "      <td>866.0</td>\n",
       "      <td>0.0</td>\n",
       "      <td>...</td>\n",
       "      <td>10621967.0</td>\n",
       "      <td>37232.0</td>\n",
       "      <td>537073.0</td>\n",
       "      <td>NaN</td>\n",
       "      <td>NaN</td>\n",
       "      <td>NaN</td>\n",
       "      <td>NaN</td>\n",
       "      <td>0.0</td>\n",
       "      <td>10621967.0</td>\n",
       "      <td>37232.0</td>\n",
       "    </tr>\n",
       "    <tr>\n",
       "      <th>2</th>\n",
       "      <td>2021-03-05</td>\n",
       "      <td>MI</td>\n",
       "      <td>16601.0</td>\n",
       "      <td>15610.0</td>\n",
       "      <td>12.0</td>\n",
       "      <td>991.0</td>\n",
       "      <td>NaN</td>\n",
       "      <td>NaN</td>\n",
       "      <td>866.0</td>\n",
       "      <td>0.0</td>\n",
       "      <td>...</td>\n",
       "      <td>10584735.0</td>\n",
       "      <td>46112.0</td>\n",
       "      <td>535084.0</td>\n",
       "      <td>NaN</td>\n",
       "      <td>NaN</td>\n",
       "      <td>NaN</td>\n",
       "      <td>NaN</td>\n",
       "      <td>0.0</td>\n",
       "      <td>10584735.0</td>\n",
       "      <td>46112.0</td>\n",
       "    </tr>\n",
       "    <tr>\n",
       "      <th>3</th>\n",
       "      <td>2021-03-04</td>\n",
       "      <td>MI</td>\n",
       "      <td>16589.0</td>\n",
       "      <td>15600.0</td>\n",
       "      <td>39.0</td>\n",
       "      <td>989.0</td>\n",
       "      <td>NaN</td>\n",
       "      <td>NaN</td>\n",
       "      <td>890.0</td>\n",
       "      <td>0.0</td>\n",
       "      <td>...</td>\n",
       "      <td>10538623.0</td>\n",
       "      <td>46486.0</td>\n",
       "      <td>532658.0</td>\n",
       "      <td>NaN</td>\n",
       "      <td>NaN</td>\n",
       "      <td>NaN</td>\n",
       "      <td>NaN</td>\n",
       "      <td>0.0</td>\n",
       "      <td>10538623.0</td>\n",
       "      <td>46486.0</td>\n",
       "    </tr>\n",
       "    <tr>\n",
       "      <th>4</th>\n",
       "      <td>2021-03-03</td>\n",
       "      <td>MI</td>\n",
       "      <td>16550.0</td>\n",
       "      <td>15563.0</td>\n",
       "      <td>6.0</td>\n",
       "      <td>987.0</td>\n",
       "      <td>NaN</td>\n",
       "      <td>NaN</td>\n",
       "      <td>882.0</td>\n",
       "      <td>0.0</td>\n",
       "      <td>...</td>\n",
       "      <td>10492137.0</td>\n",
       "      <td>36453.0</td>\n",
       "      <td>530799.0</td>\n",
       "      <td>NaN</td>\n",
       "      <td>NaN</td>\n",
       "      <td>NaN</td>\n",
       "      <td>NaN</td>\n",
       "      <td>0.0</td>\n",
       "      <td>10492137.0</td>\n",
       "      <td>36453.0</td>\n",
       "    </tr>\n",
       "    <tr>\n",
       "      <th>...</th>\n",
       "      <td>...</td>\n",
       "      <td>...</td>\n",
       "      <td>...</td>\n",
       "      <td>...</td>\n",
       "      <td>...</td>\n",
       "      <td>...</td>\n",
       "      <td>...</td>\n",
       "      <td>...</td>\n",
       "      <td>...</td>\n",
       "      <td>...</td>\n",
       "      <td>...</td>\n",
       "      <td>...</td>\n",
       "      <td>...</td>\n",
       "      <td>...</td>\n",
       "      <td>...</td>\n",
       "      <td>...</td>\n",
       "      <td>...</td>\n",
       "      <td>...</td>\n",
       "      <td>...</td>\n",
       "      <td>...</td>\n",
       "      <td>...</td>\n",
       "    </tr>\n",
       "    <tr>\n",
       "      <th>966</th>\n",
       "      <td>2022-10-23</td>\n",
       "      <td>NaN</td>\n",
       "      <td>NaN</td>\n",
       "      <td>NaN</td>\n",
       "      <td>NaN</td>\n",
       "      <td>NaN</td>\n",
       "      <td>NaN</td>\n",
       "      <td>NaN</td>\n",
       "      <td>NaN</td>\n",
       "      <td>NaN</td>\n",
       "      <td>...</td>\n",
       "      <td>NaN</td>\n",
       "      <td>NaN</td>\n",
       "      <td>NaN</td>\n",
       "      <td>NaN</td>\n",
       "      <td>NaN</td>\n",
       "      <td>NaN</td>\n",
       "      <td>NaN</td>\n",
       "      <td>NaN</td>\n",
       "      <td>NaN</td>\n",
       "      <td>NaN</td>\n",
       "    </tr>\n",
       "    <tr>\n",
       "      <th>967</th>\n",
       "      <td>2022-10-24</td>\n",
       "      <td>NaN</td>\n",
       "      <td>NaN</td>\n",
       "      <td>NaN</td>\n",
       "      <td>NaN</td>\n",
       "      <td>NaN</td>\n",
       "      <td>NaN</td>\n",
       "      <td>NaN</td>\n",
       "      <td>NaN</td>\n",
       "      <td>NaN</td>\n",
       "      <td>...</td>\n",
       "      <td>NaN</td>\n",
       "      <td>NaN</td>\n",
       "      <td>NaN</td>\n",
       "      <td>NaN</td>\n",
       "      <td>NaN</td>\n",
       "      <td>NaN</td>\n",
       "      <td>NaN</td>\n",
       "      <td>NaN</td>\n",
       "      <td>NaN</td>\n",
       "      <td>NaN</td>\n",
       "    </tr>\n",
       "    <tr>\n",
       "      <th>968</th>\n",
       "      <td>2022-10-25</td>\n",
       "      <td>NaN</td>\n",
       "      <td>NaN</td>\n",
       "      <td>NaN</td>\n",
       "      <td>NaN</td>\n",
       "      <td>NaN</td>\n",
       "      <td>NaN</td>\n",
       "      <td>NaN</td>\n",
       "      <td>NaN</td>\n",
       "      <td>NaN</td>\n",
       "      <td>...</td>\n",
       "      <td>NaN</td>\n",
       "      <td>NaN</td>\n",
       "      <td>NaN</td>\n",
       "      <td>NaN</td>\n",
       "      <td>NaN</td>\n",
       "      <td>NaN</td>\n",
       "      <td>NaN</td>\n",
       "      <td>NaN</td>\n",
       "      <td>NaN</td>\n",
       "      <td>NaN</td>\n",
       "    </tr>\n",
       "    <tr>\n",
       "      <th>969</th>\n",
       "      <td>2022-10-26</td>\n",
       "      <td>NaN</td>\n",
       "      <td>NaN</td>\n",
       "      <td>NaN</td>\n",
       "      <td>NaN</td>\n",
       "      <td>NaN</td>\n",
       "      <td>NaN</td>\n",
       "      <td>NaN</td>\n",
       "      <td>NaN</td>\n",
       "      <td>NaN</td>\n",
       "      <td>...</td>\n",
       "      <td>NaN</td>\n",
       "      <td>NaN</td>\n",
       "      <td>NaN</td>\n",
       "      <td>NaN</td>\n",
       "      <td>NaN</td>\n",
       "      <td>NaN</td>\n",
       "      <td>NaN</td>\n",
       "      <td>NaN</td>\n",
       "      <td>NaN</td>\n",
       "      <td>NaN</td>\n",
       "    </tr>\n",
       "    <tr>\n",
       "      <th>970</th>\n",
       "      <td>2022-10-27</td>\n",
       "      <td>NaN</td>\n",
       "      <td>NaN</td>\n",
       "      <td>NaN</td>\n",
       "      <td>NaN</td>\n",
       "      <td>NaN</td>\n",
       "      <td>NaN</td>\n",
       "      <td>NaN</td>\n",
       "      <td>NaN</td>\n",
       "      <td>NaN</td>\n",
       "      <td>...</td>\n",
       "      <td>NaN</td>\n",
       "      <td>NaN</td>\n",
       "      <td>NaN</td>\n",
       "      <td>NaN</td>\n",
       "      <td>NaN</td>\n",
       "      <td>NaN</td>\n",
       "      <td>NaN</td>\n",
       "      <td>NaN</td>\n",
       "      <td>NaN</td>\n",
       "      <td>NaN</td>\n",
       "    </tr>\n",
       "  </tbody>\n",
       "</table>\n",
       "<p>971 rows × 41 columns</p>\n",
       "</div>"
      ],
      "text/plain": [
       "           date state    death  deathConfirmed  deathIncrease  deathProbable  \\\n",
       "0    2021-03-07    MI  16658.0         15666.0            0.0          992.0   \n",
       "1    2021-03-06    MI  16658.0         15666.0           57.0          992.0   \n",
       "2    2021-03-05    MI  16601.0         15610.0           12.0          991.0   \n",
       "3    2021-03-04    MI  16589.0         15600.0           39.0          989.0   \n",
       "4    2021-03-03    MI  16550.0         15563.0            6.0          987.0   \n",
       "..          ...   ...      ...             ...            ...            ...   \n",
       "966  2022-10-23   NaN      NaN             NaN            NaN            NaN   \n",
       "967  2022-10-24   NaN      NaN             NaN            NaN            NaN   \n",
       "968  2022-10-25   NaN      NaN             NaN            NaN            NaN   \n",
       "969  2022-10-26   NaN      NaN             NaN            NaN            NaN   \n",
       "970  2022-10-27   NaN      NaN             NaN            NaN            NaN   \n",
       "\n",
       "     hospitalized  hospitalizedCumulative  hospitalizedCurrently  \\\n",
       "0             NaN                     NaN                  866.0   \n",
       "1             NaN                     NaN                  866.0   \n",
       "2             NaN                     NaN                  866.0   \n",
       "3             NaN                     NaN                  890.0   \n",
       "4             NaN                     NaN                  882.0   \n",
       "..            ...                     ...                    ...   \n",
       "966           NaN                     NaN                    NaN   \n",
       "967           NaN                     NaN                    NaN   \n",
       "968           NaN                     NaN                    NaN   \n",
       "969           NaN                     NaN                    NaN   \n",
       "970           NaN                     NaN                    NaN   \n",
       "\n",
       "     hospitalizedIncrease  ...  totalTestResults  totalTestResultsIncrease  \\\n",
       "0                     0.0  ...        10621967.0                       0.0   \n",
       "1                     0.0  ...        10621967.0                   37232.0   \n",
       "2                     0.0  ...        10584735.0                   46112.0   \n",
       "3                     0.0  ...        10538623.0                   46486.0   \n",
       "4                     0.0  ...        10492137.0                   36453.0   \n",
       "..                    ...  ...               ...                       ...   \n",
       "966                   NaN  ...               NaN                       NaN   \n",
       "967                   NaN  ...               NaN                       NaN   \n",
       "968                   NaN  ...               NaN                       NaN   \n",
       "969                   NaN  ...               NaN                       NaN   \n",
       "970                   NaN  ...               NaN                       NaN   \n",
       "\n",
       "     totalTestsAntibody  totalTestsAntigen  totalTestsPeopleAntibody  \\\n",
       "0              537073.0                NaN                       NaN   \n",
       "1              537073.0                NaN                       NaN   \n",
       "2              535084.0                NaN                       NaN   \n",
       "3              532658.0                NaN                       NaN   \n",
       "4              530799.0                NaN                       NaN   \n",
       "..                  ...                ...                       ...   \n",
       "966                 NaN                NaN                       NaN   \n",
       "967                 NaN                NaN                       NaN   \n",
       "968                 NaN                NaN                       NaN   \n",
       "969                 NaN                NaN                       NaN   \n",
       "970                 NaN                NaN                       NaN   \n",
       "\n",
       "     totalTestsPeopleAntigen  totalTestsPeopleViral  \\\n",
       "0                        NaN                    NaN   \n",
       "1                        NaN                    NaN   \n",
       "2                        NaN                    NaN   \n",
       "3                        NaN                    NaN   \n",
       "4                        NaN                    NaN   \n",
       "..                       ...                    ...   \n",
       "966                      NaN                    NaN   \n",
       "967                      NaN                    NaN   \n",
       "968                      NaN                    NaN   \n",
       "969                      NaN                    NaN   \n",
       "970                      NaN                    NaN   \n",
       "\n",
       "     totalTestsPeopleViralIncrease  totalTestsViral  totalTestsViralIncrease  \n",
       "0                              0.0       10621967.0                      0.0  \n",
       "1                              0.0       10621967.0                  37232.0  \n",
       "2                              0.0       10584735.0                  46112.0  \n",
       "3                              0.0       10538623.0                  46486.0  \n",
       "4                              0.0       10492137.0                  36453.0  \n",
       "..                             ...              ...                      ...  \n",
       "966                            NaN              NaN                      NaN  \n",
       "967                            NaN              NaN                      NaN  \n",
       "968                            NaN              NaN                      NaN  \n",
       "969                            NaN              NaN                      NaN  \n",
       "970                            NaN              NaN                      NaN  \n",
       "\n",
       "[971 rows x 41 columns]"
      ]
     },
     "execution_count": 12,
     "metadata": {},
     "output_type": "execute_result"
    }
   ],
   "source": [
    "data = pd.read_csv(\"michigan-history.csv\", encoding=\"ISO-8859-1\",)\n",
    "list1=[]\n",
    "for i in range(1,600):\n",
    "    x = pd.to_datetime(date[0]) + timedelta(days=i)\n",
    "    timestamp = int(time.mktime(x.timetuple()))\n",
    "#     day = np.datetime64(x)    \n",
    "#     list1.append(day)\n",
    "    dt_obj = dt.fromtimestamp(timestamp)#datetime object\n",
    "    list1.append(dt_obj.date())\n",
    "#     print(type(dt_obj))\n",
    "    \n",
    "    \n",
    "df = pd.DataFrame (list1, columns = ['date'])\n",
    "data = data.append(df,ignore_index=True)\n",
    "data\n",
    "\n"
   ]
  },
  {
   "cell_type": "code",
   "execution_count": 13,
   "id": "6def7563",
   "metadata": {},
   "outputs": [
    {
     "data": {
      "text/plain": [
       "0     2021-03-07\n",
       "1     2021-03-06\n",
       "2     2021-03-05\n",
       "3     2021-03-04\n",
       "4     2021-03-03\n",
       "         ...    \n",
       "966   2022-10-23\n",
       "967   2022-10-24\n",
       "968   2022-10-25\n",
       "969   2022-10-26\n",
       "970   2022-10-27\n",
       "Name: date, Length: 971, dtype: datetime64[ns]"
      ]
     },
     "execution_count": 13,
     "metadata": {},
     "output_type": "execute_result"
    }
   ],
   "source": [
    "date2 = data[\"date\"].astype(\"datetime64\")\n",
    "date2"
   ]
  },
  {
   "cell_type": "code",
   "execution_count": 14,
   "id": "6a0a52ae",
   "metadata": {},
   "outputs": [
    {
     "data": {
      "text/plain": [
       "0     2021-03-07\n",
       "1     2021-03-06\n",
       "2     2021-03-05\n",
       "3     2021-03-04\n",
       "4     2021-03-03\n",
       "         ...    \n",
       "367   2020-03-05\n",
       "368   2020-03-04\n",
       "369   2020-03-03\n",
       "370   2020-03-02\n",
       "371   2020-03-01\n",
       "Name: date, Length: 372, dtype: datetime64[ns]"
      ]
     },
     "execution_count": 14,
     "metadata": {},
     "output_type": "execute_result"
    }
   ],
   "source": [
    "date1 = date1.astype(\"datetime64\")\n",
    "date1"
   ]
  },
  {
   "cell_type": "code",
   "execution_count": 15,
   "id": "00df0fec",
   "metadata": {},
   "outputs": [
    {
     "data": {
      "text/plain": [
       "0      737856\n",
       "1      737855\n",
       "2      737854\n",
       "3      737853\n",
       "4      737852\n",
       "        ...  \n",
       "367    737489\n",
       "368    737488\n",
       "369    737487\n",
       "370    737486\n",
       "371    737485\n",
       "Name: date, Length: 372, dtype: int64"
      ]
     },
     "execution_count": 15,
     "metadata": {},
     "output_type": "execute_result"
    }
   ],
   "source": [
    "date1_toordinal = date1.apply(lambda x: x.toordinal())\n",
    "date1_toordinal"
   ]
  },
  {
   "cell_type": "code",
   "execution_count": 16,
   "id": "39746391",
   "metadata": {},
   "outputs": [
    {
     "data": {
      "text/plain": [
       "[<matplotlib.lines.Line2D at 0x24dad5093d0>]"
      ]
     },
     "execution_count": 16,
     "metadata": {},
     "output_type": "execute_result"
    },
    {
     "data": {
      "image/png": "[encoded data removed]",
      "text/plain": [
       "<Figure size 432x288 with 1 Axes>"
      ]
     },
     "metadata": {
      "needs_background": "light"
     },
     "output_type": "display_data"
    }
   ],
   "source": [
    "plt.plot_date(date1_toordinal- 719200,death_replace)"
   ]
  },
  {
   "cell_type": "code",
   "execution_count": 17,
   "id": "522fa042",
   "metadata": {},
   "outputs": [
    {
     "data": {
      "text/plain": [
       "0      737856\n",
       "1      737855\n",
       "2      737854\n",
       "3      737853\n",
       "4      737852\n",
       "        ...  \n",
       "966    738451\n",
       "967    738452\n",
       "968    738453\n",
       "969    738454\n",
       "970    738455\n",
       "Name: date, Length: 971, dtype: int64"
      ]
     },
     "execution_count": 17,
     "metadata": {},
     "output_type": "execute_result"
    }
   ],
   "source": [
    "date2 = date2.apply(lambda x: x.toordinal())\n",
    "date2\n"
   ]
  },
  {
   "cell_type": "code",
   "execution_count": 43,
   "id": "175ed678",
   "metadata": {},
   "outputs": [
    {
     "data": {
      "image/png": "[encoded data removed]",
      "text/plain": [
       "<Figure size 864x576 with 1 Axes>"
      ]
     },
     "metadata": {
      "needs_background": "light"
     },
     "output_type": "display_data"
    }
   ],
   "source": [
    "poly_parameters = np.polyfit(date1_toordinal, death_replace, 3)\n",
    "my_poly_function = np.poly1d(poly_parameters)\n",
    "expected_y_poly = my_poly_function(date2)\n",
    "\n",
    "plt.figure(figsize=(12,8))\n",
    "plt.plot_date(date1_toordinal- 719200, death_replace, label = \"data\")\n",
    "plt.plot(date2- 719200, expected_y_poly, color = \"orange\", label = \"fit\")\n",
    "\n",
    "plt.legend()\n",
    "plt.xlabel('Date')\n",
    "plt.ylabel('Deaths')\n",
    "plt.title(\"Deaths vs Date\")\n",
    "plt.show()"
   ]
  },
  {
   "cell_type": "markdown",
   "id": "43789c8c",
   "metadata": {},
   "source": [
    "## Agent Based Model for Covid"
   ]
  },
  {
   "cell_type": "code",
   "execution_count": 19,
   "id": "e65a2364",
   "metadata": {},
   "outputs": [],
   "source": [
    "import random as rand\n",
    "import random as random\n",
    "from IPython.display import display, clear_output"
   ]
  },
  {
   "cell_type": "code",
   "execution_count": 20,
   "id": "f3ef3050",
   "metadata": {},
   "outputs": [],
   "source": [
    "# Moore Neighborhood\n",
    "def getNeighborValues(i, j, board):\n",
    "    '''\n",
    "    Function to get the **values** for the neighborhood of a given\n",
    "    agent at [i,j]\n",
    "    '''\n",
    "    neighborhood_indices = [(i-1,j),(i,j-1),(i+1,j),(i,j+1),(i-1,j-1),(i-1,j+1),(i+1,j-1),(i+1,j+1)]\n",
    "    \n",
    "    ## We want to go through all of the indices and store the\n",
    "    ## values in those locations as long as they are _on the board_\n",
    "    neighborhood_values = []\n",
    "    \n",
    "    for index in neighborhood_indices:\n",
    "        if onBoard(index[0], index[1], board):\n",
    "            neighborhood_values.append(board[index[0], index[1]])\n",
    "    \n",
    "    return neighborhood_values\n",
    "\n",
    "# getNeighborValues(9,9,arr)#only neigbour values"
   ]
  },
  {
   "cell_type": "code",
   "execution_count": 21,
   "id": "aeb67ba3",
   "metadata": {},
   "outputs": [],
   "source": [
    "def visualize(arr):\n",
    "    plt.imshow(arr,cmap=\"Blues\")"
   ]
  },
  {
   "cell_type": "code",
   "execution_count": 22,
   "id": "65c48798",
   "metadata": {},
   "outputs": [],
   "source": [
    "def set_board(width=100,height=100,density=0.5):\n",
    "    \n",
    "    game_board = np.zeros((height,width,))\n",
    "    \n",
    "    for i in range(game_board.shape[0]):\n",
    "        for j in range(game_board.shape[1]):\n",
    "            if random.uniform(0,1) < density:\n",
    "                game_board[i,j] = 1\n",
    "\n",
    "    \n",
    "    return game_board"
   ]
  },
  {
   "cell_type": "code",
   "execution_count": 23,
   "id": "4e2eb245",
   "metadata": {},
   "outputs": [],
   "source": [
    "def spreadInfection(board):\n",
    "    height, width = board.shape\n",
    "    height_quarters = int(height/4)\n",
    "    width_quarters = int(width/4)\n",
    "    \n",
    "    starting_middle_height_index = height_quarters\n",
    "    ending_middle_height_index = 3*height_quarters\n",
    "    \n",
    "    starting_middle_width_index = width_quarters\n",
    "    ending_middle_width_index = 3*width_quarters\n",
    "    \n",
    "    found_starting_point = False\n",
    "    ##If the people density is low enough, we might not have\n",
    "    ##an individual in this middle region. If that's the case, we\n",
    "    ##are going to make a slight modification and just \n",
    "    ##place someone on the board who does know the information\n",
    "    # 1 is depicting people and 2 the person with infection\n",
    "    if np.all(board[starting_middle_height_index:ending_middle_height_index, starting_middle_width_index:ending_middle_width_index] == 0):\n",
    "        i = random.randint(starting_middle_height_index, ending_middle_height_index)\n",
    "        j = random.randint(starting_middle_width_index, ending_middle_width_index)\n",
    "        board[i,j] = 2\n",
    "        found_starting_point = True\n",
    "    while not found_starting_point:\n",
    "        i = random.randint(starting_middle_height_index, ending_middle_height_index)\n",
    "        j = random.randint(starting_middle_width_index, ending_middle_width_index)\n",
    "        if board[i,j] == 1:\n",
    "            found_starting_point = True\n",
    "            board[i, j] = 2 \n",
    "            \n",
    "    return board\n"
   ]
  },
  {
   "cell_type": "code",
   "execution_count": 24,
   "id": "447e75f2",
   "metadata": {},
   "outputs": [],
   "source": [
    "def onBoard(i, j, board):\n",
    "    '''\n",
    "    Checks to see if the index [i,j] is a valid index for this array.\n",
    "    '''\n",
    "    if i <= board.shape[0]-1 and i >= 0 and j <= board.shape[1]-1 and j >= 0:\n",
    "        return True\n",
    "    else:\n",
    "        return False"
   ]
  },
  {
   "cell_type": "code",
   "execution_count": 25,
   "id": "f3c782c9",
   "metadata": {},
   "outputs": [
    {
     "data": {
      "image/png": "[encoded data removed]",
      "text/plain": [
       "<Figure size 864x504 with 1 Axes>"
      ]
     },
     "metadata": {},
     "output_type": "display_data"
    },
    {
     "name": "stdout",
     "output_type": "stream",
     "text": [
      "Completed in 75 iterations\n"
     ]
    }
   ],
   "source": [
    "ALPHA = 1.0\n",
    "\n",
    "def anim():\n",
    "    fig = plt.figure(figsize = (12,7))\n",
    "    visualize(city) \n",
    "    time.sleep(0.1)\n",
    "    clear_output(wait=True) \n",
    "    display(fig)           \n",
    "    fig.clear()         \n",
    "    plt.close();\n",
    "    \n",
    "city = set_board(100,100,0.9)\n",
    "spreadInfection(city)\n",
    "a=0\n",
    "while(True):\n",
    "    a += 1\n",
    "    new_city = city.copy()\n",
    "    for i in range(city.shape[0]):\n",
    "        for j in range(city.shape[1]):\n",
    "            if city[i][j] == 1:         \n",
    "                neighborhood_values = getNeighborValues(i,j,city) \n",
    "                for values in neighborhood_values:\n",
    "\n",
    "                    if values == 2 and random.uniform(0,1) < ALPHA:  \n",
    "                        new_city[i][j] = 2        \n",
    "\n",
    "    if np.all(new_city==city) :\n",
    "        print(\"Completed in {} iterations\".format(a))\n",
    "        break\n",
    "    else:\n",
    "        city = new_city\n",
    "     \n",
    "    anim()"
   ]
  },
  {
   "cell_type": "code",
   "execution_count": 26,
   "id": "7eed6e00",
   "metadata": {},
   "outputs": [],
   "source": [
    "#Calculating density with Percentage of people that has infection in the end.\n",
    "list_people_with_infection = []\n",
    "\n",
    "for density in np.arange(0.05,1.01,0.05):\n",
    "    city = set_board(100,100,density)\n",
    "    spreadInfection(city)\n",
    "    while(True):\n",
    "        new_city = city.copy()\n",
    "        for i in range(city.shape[0]):\n",
    "            for j in range(city.shape[1]):\n",
    "                if city[i][j] == 1:         \n",
    "                    neighborhood_values = getNeighborValues(i,j,city) \n",
    "                    for values in neighborhood_values:\n",
    "\n",
    "                        if values == 2:  \n",
    "                            new_city[i][j] = 2        \n",
    "\n",
    "        if np.array_equal(new_city,city) :\n",
    "            break\n",
    "        else:\n",
    "            city = new_city\n",
    "#         anim()\n",
    "        \n",
    "    counting_2 = 0\n",
    "    for i in range(city.shape[0]):\n",
    "        for j in range(city.shape[1]):\n",
    "            if city[i][j] == 2:\n",
    "                counting_2 += 1\n",
    "    counting_1 = 0\n",
    "    for i in range(city.shape[0]):\n",
    "        for j in range(city.shape[1]):\n",
    "            if city[i][j] == 1:\n",
    "                counting_1 += 1            \n",
    "                                      \n",
    "    list_people_with_infection.append((counting_2/(counting_1+counting_2))*100)"
   ]
  },
  {
   "cell_type": "code",
   "execution_count": 45,
   "id": "369447ea",
   "metadata": {},
   "outputs": [
    {
     "data": {
      "text/plain": [
       "Text(0.5, 1.0, '% of the people who had infection at the end of the simulation vs Density')"
      ]
     },
     "execution_count": 45,
     "metadata": {},
     "output_type": "execute_result"
    },
    {
     "data": {
      "image/png": "[encoded data removed]",
      "text/plain": [
       "<Figure size 432x288 with 1 Axes>"
      ]
     },
     "metadata": {
      "needs_background": "light"
     },
     "output_type": "display_data"
    }
   ],
   "source": [
    "density_list=[]\n",
    "for density in np.arange(0.05,1.01,0.05):\n",
    "    density_list.append(density)\n",
    "plt.plot(density_list,list_people_with_infection)\n",
    "plt.xlabel(\"Density\")\n",
    "plt.ylabel(\"% of the people who had infection\\n at the end of the simulation\")\n",
    "plt.title(\"% of the people who had infection at the end of the simulation vs Density\")"
   ]
  },
  {
   "cell_type": "code",
   "execution_count": null,
   "id": "373ad3b5",
   "metadata": {},
   "outputs": [],
   "source": []
  }
 ],
 "metadata": {
  "kernelspec": {
   "display_name": "Python 3",
   "language": "python",
   "name": "python3"
  },
  "language_info": {
   "codemirror_mode": {
    "name": "ipython",
    "version": 3
   },
   "file_extension": ".py",
   "mimetype": "text/x-python",
   "name": "python",
   "nbconvert_exporter": "python",
   "pygments_lexer": "ipython3",
   "version": "3.8.8"
  }
 },
 "nbformat": 4,
 "nbformat_minor": 5
}
